{
  "nbformat": 4,
  "nbformat_minor": 0,
  "metadata": {
    "colab": {
      "name": "Cosnova_use_case_Chakraborty.ipynb",
      "provenance": [],
      "collapsed_sections": []
    },
    "kernelspec": {
      "name": "python3",
      "display_name": "Python 3"
    },
    "language_info": {
      "name": "python"
    }
  },
  "cells": [
    {
      "cell_type": "code",
      "metadata": {
        "colab": {
          "base_uri": "https://localhost:8080/"
        },
        "id": "HXb2PJDL2tiE",
        "outputId": "87faece5-dffd-41f6-eff3-60fbdff9606c"
      },
      "source": [
        "import warnings\n",
        "\n",
        "import matplotlib.pyplot as plt\n",
        "import matplotlib.dates as mdates\n",
        "from matplotlib.dates import DateFormatter\n",
        "import matplotlib.ticker as ticker\n",
        "from matplotlib import rcParams\n",
        "from matplotlib import pyplot\n",
        "from math import sqrt\n",
        "\n",
        "import numpy as np\n",
        "from numpy import log\n",
        "\n",
        "import pandas as pd\n",
        "from datetime import datetime, timedelta\n",
        "from pandas.plotting import lag_plot\n",
        "from pandas import DataFrame\n",
        "from pandas import concat\n",
        "\n",
        "\n",
        "\n",
        "import statsmodels.api as sm\n",
        "from statsmodels.tsa.stattools import acf\n",
        "from statsmodels.graphics.tsaplots import plot_acf, plot_pacf\n",
        "from statsmodels.tsa.stattools import adfuller\n",
        "#from statsmodels.tsa.stattools import AutoReg\n",
        "from statsmodels.tsa.ar_model import AR\n",
        "!pip install -U AutoReg\n",
        "from AutoReg import AutoReg\n",
        "\n",
        "import sklearn as sk\n",
        "\n",
        "import seaborn as sns\n",
        "plt.style.use('seaborn-whitegrid')\n",
        "\n",
        "\n",
        "warnings.filterwarnings(\"ignore\")"
      ],
      "execution_count": 2,
      "outputs": [
        {
          "output_type": "stream",
          "text": [
            "Requirement already satisfied: AutoReg in /usr/local/lib/python3.7/dist-packages (1.1)\n"
          ],
          "name": "stdout"
        }
      ]
    },
    {
      "cell_type": "markdown",
      "metadata": {
        "id": "asduIVUQFGGw"
      },
      "source": [
        "Reads Loreal sales turnover time-series data [2015-2021] (Data Source: https://www.loreal-finance.com/eng/share-price)"
      ]
    },
    {
      "cell_type": "code",
      "metadata": {
        "id": "UgvbAivE3BVd"
      },
      "source": [
        "loreal_stock_df_2015_2021=pd.read_csv(\"/content/price-lookup-L'OREAL-MONTH-2015-08-03-2021-08-03.csv\",delimiter=\";\")"
      ],
      "execution_count": 3,
      "outputs": []
    },
    {
      "cell_type": "markdown",
      "metadata": {
        "id": "dVwsBqhDFtYn"
      },
      "source": [
        "Formatting"
      ]
    },
    {
      "cell_type": "code",
      "metadata": {
        "colab": {
          "base_uri": "https://localhost:8080/",
          "height": 204
        },
        "id": "o8ZB7idf3aFc",
        "outputId": "8867ae62-0f17-42c3-d446-7554356b8d52"
      },
      "source": [
        "#Remove Extra Columns\n",
        "df_train = loreal_stock_df_2015_2021.drop(['Opening', 'Highest price','Lowest price', 'Closing price','Volume'], axis=1)\n",
        "#DateTime Format\n",
        "df_train['Date']=pd.to_datetime(df_train['Date'])\n",
        "df_train.head()"
      ],
      "execution_count": 4,
      "outputs": [
        {
          "output_type": "execute_result",
          "data": {
            "text/html": [
              "<div>\n",
              "<style scoped>\n",
              "    .dataframe tbody tr th:only-of-type {\n",
              "        vertical-align: middle;\n",
              "    }\n",
              "\n",
              "    .dataframe tbody tr th {\n",
              "        vertical-align: top;\n",
              "    }\n",
              "\n",
              "    .dataframe thead th {\n",
              "        text-align: right;\n",
              "    }\n",
              "</style>\n",
              "<table border=\"1\" class=\"dataframe\">\n",
              "  <thead>\n",
              "    <tr style=\"text-align: right;\">\n",
              "      <th></th>\n",
              "      <th>Date</th>\n",
              "      <th>Turnover</th>\n",
              "    </tr>\n",
              "  </thead>\n",
              "  <tbody>\n",
              "    <tr>\n",
              "      <th>0</th>\n",
              "      <td>2015-08-31</td>\n",
              "      <td>2.733047e+09</td>\n",
              "    </tr>\n",
              "    <tr>\n",
              "      <th>1</th>\n",
              "      <td>2015-09-30</td>\n",
              "      <td>2.740650e+09</td>\n",
              "    </tr>\n",
              "    <tr>\n",
              "      <th>2</th>\n",
              "      <td>2015-10-30</td>\n",
              "      <td>3.061263e+09</td>\n",
              "    </tr>\n",
              "    <tr>\n",
              "      <th>3</th>\n",
              "      <td>2015-11-30</td>\n",
              "      <td>2.132360e+09</td>\n",
              "    </tr>\n",
              "    <tr>\n",
              "      <th>4</th>\n",
              "      <td>2015-12-31</td>\n",
              "      <td>2.260586e+09</td>\n",
              "    </tr>\n",
              "  </tbody>\n",
              "</table>\n",
              "</div>"
            ],
            "text/plain": [
              "        Date      Turnover\n",
              "0 2015-08-31  2.733047e+09\n",
              "1 2015-09-30  2.740650e+09\n",
              "2 2015-10-30  3.061263e+09\n",
              "3 2015-11-30  2.132360e+09\n",
              "4 2015-12-31  2.260586e+09"
            ]
          },
          "metadata": {
            "tags": []
          },
          "execution_count": 4
        }
      ]
    },
    {
      "cell_type": "markdown",
      "metadata": {
        "id": "p9MJO6xfMtz_"
      },
      "source": [
        "Compute the overall sales trend using seasonal decomposition using moving averages and a periodicity of 6 months [2015-2021]"
      ]
    },
    {
      "cell_type": "code",
      "metadata": {
        "id": "PhF-knJXL6St"
      },
      "source": [
        "trend_dict= {}\n",
        "#for ts in loreal_turnover_df_covid.columns:\n",
        "trend_sales = sm.tsa.seasonal_decompose(df_train[\"Turnover\"].dropna(),model='additive', filt=None, freq=6, two_sided=True, extrapolate_trend=0)\n",
        "# Store back the results\n",
        "trend_dict[\"Turnover_trend\"] = trend_sales.trend\n",
        "df_trend=pd.DataFrame(trend_dict)\n"
      ],
      "execution_count": 6,
      "outputs": []
    },
    {
      "cell_type": "markdown",
      "metadata": {
        "id": "N4_sxRDOGclq"
      },
      "source": [
        "Plot[1]: Barplot of the sales turnover time-series "
      ]
    },
    {
      "cell_type": "code",
      "metadata": {
        "colab": {
          "base_uri": "https://localhost:8080/",
          "height": 321
        },
        "id": "M6_OvZI2Gay3",
        "outputId": "877ea555-e05f-457a-e186-aae64eb1c839"
      },
      "source": [
        "fig, ax = plt.subplots()\n",
        "fig=sns.barplot(x='Date',y='Turnover',data=df_train,ax=ax)\n",
        "#pd.DataFrame(trend_dict).plot()\n",
        "#Plot frequency=6 months\n",
        "freq = int(6)\n",
        "\n",
        "#Formatting the xtics\n",
        "xlabels=ax.set_xticklabels(df_train.iloc[::freq].Date.dt.date)\n",
        "xtix = ax.get_xticks()\n",
        "ax.set_xticks(xtix[::freq])\n",
        "ax.set_xticklabels(xlabels,rotation=45, ha='right')\n",
        "plt.show()\n",
        "\n",
        "#Note: Sales peak reached around March, 2020 -- the time when Covid19 pandemic started causing a mass panic"
      ],
      "execution_count": 7,
      "outputs": [
        {
          "output_type": "display_data",
          "data": {
            "image/png": "[encoded data removed]",
            "text/plain": [
              "<Figure size 432x288 with 1 Axes>"
            ]
          },
          "metadata": {
            "tags": []
          }
        }
      ]
    },
    {
      "cell_type": "markdown",
      "metadata": {
        "id": "3JAl2FCVQAK_"
      },
      "source": [
        "Plot[2]: Sales Trend Plot [2015-2021]"
      ]
    },
    {
      "cell_type": "code",
      "metadata": {
        "colab": {
          "base_uri": "https://localhost:8080/",
          "height": 292
        },
        "id": "_FSUtR4PBT09",
        "outputId": "fb032831-1b9a-407d-e6ef-bcaa93e2c622"
      },
      "source": [
        "dfs = [df_train,df_trend]\n",
        "trend= pd.concat(dfs,axis=1)\n",
        "trend['Date']=pd.to_datetime(trend['Date'])\n",
        "trend=trend.set_index(['Date'])\n",
        "trend['Turnover_trend'].plot()\n",
        "plt.xlabel('Year')\n",
        "plt.ylabel('Seasonal trend for sales turnover')"
      ],
      "execution_count": 8,
      "outputs": [
        {
          "output_type": "execute_result",
          "data": {
            "text/plain": [
              "Text(0, 0.5, 'Seasonal trend for sales turnover')"
            ]
          },
          "metadata": {
            "tags": []
          },
          "execution_count": 8
        },
        {
          "output_type": "display_data",
          "data": {
            "image/png": "[encoded data removed]",
            "text/plain": [
              "<Figure size 432x288 with 1 Axes>"
            ]
          },
          "metadata": {
            "tags": []
          }
        }
      ]
    },
    {
      "cell_type": "markdown",
      "metadata": {
        "id": "wTKF61HsSWxh"
      },
      "source": [
        "Perform a Dicky-Fuller test to check the stationarity of the turnover data (p <0.05 means data is stationary and differencing is not necessary)"
      ]
    },
    {
      "cell_type": "code",
      "metadata": {
        "colab": {
          "base_uri": "https://localhost:8080/"
        },
        "id": "eTOp6mwJSi_P",
        "outputId": "4945e5e1-9ba9-4d9a-936c-9bc6c2a6caa7"
      },
      "source": [
        "result = adfuller(df_train.Turnover.dropna())\n",
        "print('ADF Statistic: %f' % result[0])\n",
        "print('p-value: %f' % result[1])"
      ],
      "execution_count": 9,
      "outputs": [
        {
          "output_type": "stream",
          "text": [
            "ADF Statistic: -5.405379\n",
            "p-value: 0.000003\n"
          ],
          "name": "stdout"
        }
      ]
    },
    {
      "cell_type": "markdown",
      "metadata": {
        "id": "H4ToltY-QnMd"
      },
      "source": [
        "Plotting the auto-correlation and partial autocorrelation for the sales turnover time-series "
      ]
    },
    {
      "cell_type": "code",
      "metadata": {
        "colab": {
          "base_uri": "https://localhost:8080/",
          "height": 537
        },
        "id": "7SKtYmnf5Lu0",
        "outputId": "23da5720-37e2-4e4e-f28a-18a12cde1dd7"
      },
      "source": [
        "plot_acf(df_train.Turnover)\n",
        "#plot_pacf(df_train.Turnover)\n",
        "\n",
        "#We observe that both autocorrelation and partial auto-correlations cross the significant line upto the 1st lag. \n",
        "#Choice of model: Since lags are not correlated, simple auto-regression AR model should work just fine!"
      ],
      "execution_count": 10,
      "outputs": [
        {
          "output_type": "execute_result",
          "data": {
            "image/png": "[encoded data removed]",
            "text/plain": [
              "<Figure size 432x288 with 1 Axes>"
            ]
          },
          "metadata": {
            "tags": []
          },
          "execution_count": 10
        },
        {
          "output_type": "display_data",
          "data": {
            "image/png": "[encoded data removed]",
            "text/plain": [
              "<Figure size 432x288 with 1 Axes>"
            ]
          },
          "metadata": {
            "tags": []
          }
        }
      ]
    },
    {
      "cell_type": "markdown",
      "metadata": {
        "id": "VyUbE1_231AQ"
      },
      "source": [
        "The simplest model that we could use to make predictions would be to persist the last observation and we can call this a persistence model and it provides a baseline of performance for the problem that we can use for comparison with an autoregression model."
      ]
    },
    {
      "cell_type": "code",
      "metadata": {
        "colab": {
          "base_uri": "https://localhost:8080/",
          "height": 204
        },
        "id": "7iuWLxM36pZN",
        "outputId": "5c12aea3-a91f-4578-def6-1955b4ed0161"
      },
      "source": [
        "# create lagged dataset\n",
        "values = DataFrame(df_train.Turnover)\n",
        "dataframe = concat([values.shift(1), values], axis=1)\n",
        "dataframe.columns = ['t-1', 't+1']\n",
        "dataframe.head()"
      ],
      "execution_count": 11,
      "outputs": [
        {
          "output_type": "execute_result",
          "data": {
            "text/html": [
              "<div>\n",
              "<style scoped>\n",
              "    .dataframe tbody tr th:only-of-type {\n",
              "        vertical-align: middle;\n",
              "    }\n",
              "\n",
              "    .dataframe tbody tr th {\n",
              "        vertical-align: top;\n",
              "    }\n",
              "\n",
              "    .dataframe thead th {\n",
              "        text-align: right;\n",
              "    }\n",
              "</style>\n",
              "<table border=\"1\" class=\"dataframe\">\n",
              "  <thead>\n",
              "    <tr style=\"text-align: right;\">\n",
              "      <th></th>\n",
              "      <th>t-1</th>\n",
              "      <th>t+1</th>\n",
              "    </tr>\n",
              "  </thead>\n",
              "  <tbody>\n",
              "    <tr>\n",
              "      <th>0</th>\n",
              "      <td>NaN</td>\n",
              "      <td>2.733047e+09</td>\n",
              "    </tr>\n",
              "    <tr>\n",
              "      <th>1</th>\n",
              "      <td>2.733047e+09</td>\n",
              "      <td>2.740650e+09</td>\n",
              "    </tr>\n",
              "    <tr>\n",
              "      <th>2</th>\n",
              "      <td>2.740650e+09</td>\n",
              "      <td>3.061263e+09</td>\n",
              "    </tr>\n",
              "    <tr>\n",
              "      <th>3</th>\n",
              "      <td>3.061263e+09</td>\n",
              "      <td>2.132360e+09</td>\n",
              "    </tr>\n",
              "    <tr>\n",
              "      <th>4</th>\n",
              "      <td>2.132360e+09</td>\n",
              "      <td>2.260586e+09</td>\n",
              "    </tr>\n",
              "  </tbody>\n",
              "</table>\n",
              "</div>"
            ],
            "text/plain": [
              "            t-1           t+1\n",
              "0           NaN  2.733047e+09\n",
              "1  2.733047e+09  2.740650e+09\n",
              "2  2.740650e+09  3.061263e+09\n",
              "3  3.061263e+09  2.132360e+09\n",
              "4  2.132360e+09  2.260586e+09"
            ]
          },
          "metadata": {
            "tags": []
          },
          "execution_count": 11
        }
      ]
    },
    {
      "cell_type": "code",
      "metadata": {
        "id": "BYAA_LMe9Dzx"
      },
      "source": [
        "# split into train and test sets\n",
        "X = dataframe.values\n",
        "train, test = X[1:len(X)-6], X[len(X)-6:]\n",
        "train_X, train_y = train[:,0], train[:,1]\n",
        "test_X, test_y = test[:,0], test[:,1]"
      ],
      "execution_count": 12,
      "outputs": []
    },
    {
      "cell_type": "code",
      "metadata": {
        "id": "oFR60mOJ9f5V"
      },
      "source": [
        "# persistence model\n",
        "def model_persistence(x):\n",
        "\treturn x"
      ],
      "execution_count": 13,
      "outputs": []
    },
    {
      "cell_type": "code",
      "metadata": {
        "id": "smtQWxjE9ma0"
      },
      "source": [
        "# walk-forward validation\n",
        "predictions = list()\n",
        "for x in test_X:\n",
        "\tyhat = model_persistence(x)\n",
        "\tpredictions.append(yhat)"
      ],
      "execution_count": 14,
      "outputs": []
    },
    {
      "cell_type": "markdown",
      "metadata": {
        "id": "lMXXt77S8DCw"
      },
      "source": [
        "Predictions from persistence model"
      ]
    },
    {
      "cell_type": "code",
      "metadata": {
        "colab": {
          "base_uri": "https://localhost:8080/",
          "height": 273
        },
        "id": "xdgIFh1o-Kko",
        "outputId": "9f76ceb5-9846-4e55-c5d8-c13e8cbef0cd"
      },
      "source": [
        "# plot predictions vs expected\n",
        "testplot=plt.plot(test_y, label='Test data')\n",
        "predplot=plt.plot(predictions, label='Predictions')\n",
        "plt.legend()\n",
        "plt.show()"
      ],
      "execution_count": 15,
      "outputs": [
        {
          "output_type": "display_data",
          "data": {
            "image/png": "[encoded data removed]",
            "text/plain": [
              "<Figure size 432x288 with 1 Axes>"
            ]
          },
          "metadata": {
            "tags": []
          }
        }
      ]
    },
    {
      "cell_type": "markdown",
      "metadata": {
        "id": "yUwnTDrNFKsF"
      },
      "source": [
        "The persistence model is not predicting well as was expected. We shall now split our dataset to train using autoregression AR model and then test the validity on the test dataset. \n",
        "Assumptions: Since the Covid19 dataset is of a size ~ 24 months and the trend of the dataset changes from Feb 2020, we choose the length of training data as large as possible. We will later use this to forecast the future behaviour as well.\n",
        " "
      ]
    },
    {
      "cell_type": "code",
      "metadata": {
        "colab": {
          "base_uri": "https://localhost:8080/"
        },
        "id": "Bfyoep1iB8tG",
        "outputId": "dd4bcac0-c641-472f-d399-93878db4eb23"
      },
      "source": [
        "# split dataset\n",
        "X = df_train.Turnover\n",
        "#print(X)\n",
        "train, test = X[1:len(X)-6], X[len(X)-6:]\n",
        "print(test)"
      ],
      "execution_count": 16,
      "outputs": [
        {
          "output_type": "stream",
          "text": [
            "67    2.942362e+09\n",
            "68    2.502026e+09\n",
            "69    2.570509e+09\n",
            "70    3.416698e+09\n",
            "71    2.864942e+09\n",
            "72    2.223595e+08\n",
            "Name: Turnover, dtype: float64\n"
          ],
          "name": "stdout"
        }
      ]
    },
    {
      "cell_type": "code",
      "metadata": {
        "colab": {
          "base_uri": "https://localhost:8080/"
        },
        "id": "J-0tYikrB2fg",
        "outputId": "075db0de-7cb7-4f4b-986a-a22f0e82c6e1"
      },
      "source": [
        "#train autoregression\n",
        "model = AR(train)\n",
        "model_fit = model.fit()\n",
        "print('Coefficients: %s' % model_fit.params)\n",
        "#AutoReg\n",
        "#len(test)"
      ],
      "execution_count": 17,
      "outputs": [
        {
          "output_type": "stream",
          "text": [
            "Coefficients: const           9.709743e+08\n",
            "L1.Turnover     3.430748e-01\n",
            "L2.Turnover    -5.284861e-02\n",
            "L3.Turnover     1.536572e-01\n",
            "L4.Turnover     1.729301e-02\n",
            "L5.Turnover     1.320080e-01\n",
            "L6.Turnover    -2.999721e-02\n",
            "L7.Turnover     1.517343e-02\n",
            "L8.Turnover     1.845623e-01\n",
            "L9.Turnover    -6.681517e-02\n",
            "L10.Turnover   -8.289002e-03\n",
            "L11.Turnover   -7.497990e-02\n",
            "dtype: float64\n"
          ],
          "name": "stdout"
        }
      ]
    },
    {
      "cell_type": "markdown",
      "metadata": {
        "id": "TBFTs5WJIE8r"
      },
      "source": [
        "We use the AR coefficients to validate 12 months of test data and for making predictions for another 12 months"
      ]
    },
    {
      "cell_type": "code",
      "metadata": {
        "colab": {
          "base_uri": "https://localhost:8080/",
          "height": 204
        },
        "id": "Qh_p6csPG-k8",
        "outputId": "3d3e4a8c-2232-4588-d3ee-387558181bbf"
      },
      "source": [
        "# make predictions\n",
        "predictions = model_fit.predict(start=len(train)-24, end=len(train)+12, dynamic=False)\n",
        "#print(predictions)\n",
        "df_train.tail()"
      ],
      "execution_count": 18,
      "outputs": [
        {
          "output_type": "execute_result",
          "data": {
            "text/html": [
              "<div>\n",
              "<style scoped>\n",
              "    .dataframe tbody tr th:only-of-type {\n",
              "        vertical-align: middle;\n",
              "    }\n",
              "\n",
              "    .dataframe tbody tr th {\n",
              "        vertical-align: top;\n",
              "    }\n",
              "\n",
              "    .dataframe thead th {\n",
              "        text-align: right;\n",
              "    }\n",
              "</style>\n",
              "<table border=\"1\" class=\"dataframe\">\n",
              "  <thead>\n",
              "    <tr style=\"text-align: right;\">\n",
              "      <th></th>\n",
              "      <th>Date</th>\n",
              "      <th>Turnover</th>\n",
              "    </tr>\n",
              "  </thead>\n",
              "  <tbody>\n",
              "    <tr>\n",
              "      <th>68</th>\n",
              "      <td>2021-04-30</td>\n",
              "      <td>2.502026e+09</td>\n",
              "    </tr>\n",
              "    <tr>\n",
              "      <th>69</th>\n",
              "      <td>2021-05-31</td>\n",
              "      <td>2.570509e+09</td>\n",
              "    </tr>\n",
              "    <tr>\n",
              "      <th>70</th>\n",
              "      <td>2021-06-30</td>\n",
              "      <td>3.416698e+09</td>\n",
              "    </tr>\n",
              "    <tr>\n",
              "      <th>71</th>\n",
              "      <td>2021-07-30</td>\n",
              "      <td>2.864942e+09</td>\n",
              "    </tr>\n",
              "    <tr>\n",
              "      <th>72</th>\n",
              "      <td>2021-08-03</td>\n",
              "      <td>2.223595e+08</td>\n",
              "    </tr>\n",
              "  </tbody>\n",
              "</table>\n",
              "</div>"
            ],
            "text/plain": [
              "         Date      Turnover\n",
              "68 2021-04-30  2.502026e+09\n",
              "69 2021-05-31  2.570509e+09\n",
              "70 2021-06-30  3.416698e+09\n",
              "71 2021-07-30  2.864942e+09\n",
              "72 2021-08-03  2.223595e+08"
            ]
          },
          "metadata": {
            "tags": []
          },
          "execution_count": 18
        }
      ]
    },
    {
      "cell_type": "code",
      "metadata": {
        "colab": {
          "base_uri": "https://localhost:8080/",
          "height": 304
        },
        "id": "dNiWD2xVH28Y",
        "outputId": "635127a3-2a6c-4719-e934-651ad6090d08"
      },
      "source": [
        "#print(predictions)\n",
        "pred_dict= {}\n",
        "pred_dict[\"Turnover_predictions\"] = predictions\n",
        "df_pred=pd.DataFrame(pred_dict)\n",
        "df_pred.head()\n",
        "#df_train=df_train.set_index(['Date'])\n",
        "df_pred.index\n",
        "#for i in range(df_pred.index):\n",
        "#  df_pred.index = df_train.index \n",
        "#df_pred['Turnover predictions']=pd.DataFrame(predictions)\n",
        "#df_train.head()\n",
        "dfs = [df_train,df_pred]\n",
        "pred= pd.concat(dfs,axis=1)\n",
        "#print(pred)\n",
        "#pred['Date']=pd.to_datetime(pred['Date'])\n",
        "#trend=trend.set_index(['Date'])\n",
        "#trend['Turnover_trend'].plot()\n",
        "#plt.xlabel('Year')\n",
        "#plt.ylabel('Seasonal trend for sales turnover')\n",
        "#pred=pred.set_index(['Date'])\n",
        "\n",
        "#plt.plot()\n",
        "#plt.plot(predictions, color='red', label='Forecast')\n",
        "#plt.legend()\n",
        "#plt.show()\n",
        "\n",
        "\n",
        "date_list = ['2021-08-31','2021-09-30','2021-10-31','30-11-2021','31-12-2021','31-01-2022','28-02-2022']\n",
        "for  date,i in zip(date_list,range(73,80)):\n",
        "  pred.at[i,'Date'] = pd.to_datetime(date)\n",
        "pred=pred.set_index(['Date'])\n",
        "plt.plot(pred.Turnover,label='Original time series')\n",
        "plt.plot(pred.Turnover_predictions, label='Forecast')\n",
        "plt.xlabel('Year')\n",
        "plt.ylabel('Sales Turnover')\n",
        "plt.legend()\n"
      ],
      "execution_count": 38,
      "outputs": [
        {
          "output_type": "execute_result",
          "data": {
            "text/plain": [
              "<matplotlib.legend.Legend at 0x7f5a790c6550>"
            ]
          },
          "metadata": {
            "tags": []
          },
          "execution_count": 38
        },
        {
          "output_type": "display_data",
          "data": {
            "image/png": "[encoded data removed]",
            "text/plain": [
              "<Figure size 432x288 with 1 Axes>"
            ]
          },
          "metadata": {
            "tags": []
          }
        }
      ]
    },
    {
      "cell_type": "markdown",
      "metadata": {
        "id": "9M0qus97Zm_N"
      },
      "source": [
        "Comments:\n",
        "\n",
        "\n",
        "1.   The sharp jump around Feb, 2020 can not be exactly captured by AR. Understandably so, because the previous training data had no such trends.\n",
        "2.   Post Feb 2020, the trend till 2021 is captured quite well. There is a dip in the turnover in July-August 2021. Since COVID19 is setting new trends in the sales data, the model needs to be trained with a longer time series, to be able to rightly capture the actual behaviour. The model predicts the sales to stabilise during Sep, 2021 - Feb, 2022. \n",
        "\n",
        "\n"
      ]
    }
  ]
}